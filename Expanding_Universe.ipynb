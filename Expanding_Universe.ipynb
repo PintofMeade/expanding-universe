{
  "nbformat": 4,
  "nbformat_minor": 0,
  "metadata": {
    "colab": {
      "name": "Expanding_Universe.ipynb",
      "provenance": [],
      "collapsed_sections": [],
      "authorship_tag": "ABX9TyPniPlhih1RIGhOOyJ/KvOt",
      "include_colab_link": true
    },
    "kernelspec": {
      "name": "python3",
      "display_name": "Python 3"
    },
    "language_info": {
      "name": "python"
    }
  },
  "cells": [
    {
      "cell_type": "markdown",
      "metadata": {
        "id": "view-in-github",
        "colab_type": "text"
      },
      "source": [
        "<a href=\"https://colab.research.google.com/github/xli2522/expanding-universe/blob/main/Expanding_Universe.ipynb\" target=\"_parent\"><img src=\"https://colab.research.google.com/assets/colab-badge.svg\" alt=\"Open In Colab\"/></a>"
      ]
    },
    {
      "cell_type": "code",
      "source": [
        "! pip install -q lmfit "
      ],
      "metadata": {
        "id": "SD7hj6VqAZr_",
        "colab": {
          "base_uri": "https://localhost:8080/"
        },
        "outputId": "8e47292b-b401-496f-ab8a-1e635aec8d7e"
      },
      "execution_count": 1,
      "outputs": [
        {
          "output_type": "stream",
          "name": "stdout",
          "text": [
            "\u001b[K     |████████████████████████████████| 292 kB 13.1 MB/s \n",
            "\u001b[K     |████████████████████████████████| 40 kB 3.2 MB/s \n",
            "\u001b[K     |████████████████████████████████| 98 kB 7.4 MB/s \n",
            "\u001b[?25h  Building wheel for lmfit (setup.py) ... \u001b[?25l\u001b[?25hdone\n",
            "  Building wheel for asteval (setup.py) ... \u001b[?25l\u001b[?25hdone\n"
          ]
        }
      ]
    },
    {
      "cell_type": "code",
      "execution_count": 2,
      "metadata": {
        "id": "mmEWDRscAHva"
      },
      "outputs": [],
      "source": [
        "import numpy as np\n",
        "import matplotlib.pyplot as plt\n",
        "import lmfit \n",
        "import pandas as pd\n",
        "import re"
      ]
    },
    {
      "cell_type": "code",
      "source": [
        "# extract data from the 2011 \n",
        "data=pd.read_csv('SCPUnion2.1_AllSNe.txt', sep=' & ', dtype='object')"
      ],
      "metadata": {
        "colab": {
          "base_uri": "https://localhost:8080/"
        },
        "id": "8FVj7A3eAgMJ",
        "outputId": "8070d34a-f77a-41b1-896c-16393948835b"
      },
      "execution_count": 4,
      "outputs": [
        {
          "output_type": "stream",
          "name": "stderr",
          "text": [
            "/usr/local/lib/python3.7/dist-packages/pandas/util/_decorators.py:311: ParserWarning: Falling back to the 'python' engine because the 'c' engine does not support regex separators (separators > 1 char and different from '\\s+' are interpreted as regex); you can avoid this warning by specifying engine='python'.\n",
            "  return func(*args, **kwargs)\n"
          ]
        }
      ]
    },
    {
      "cell_type": "code",
      "source": [
        "print(data.columns)\n",
        "data = data[data['status'] != r'f\\\\']       # remove failed data\n",
        "print(data)"
      ],
      "metadata": {
        "colab": {
          "base_uri": "https://localhost:8080/"
        },
        "id": "e1BWGqu1DuN9",
        "outputId": "72d903e0-d983-43bb-9fa0-025b15199242"
      },
      "execution_count": 5,
      "outputs": [
        {
          "output_type": "stream",
          "name": "stdout",
          "text": [
            "Index(['Name', 'RedShift', 'B-Band Magnitude', 'Stretch', 'Color',\n",
            "       'Distance Modulus', 'Sample', 'CutsFailed', 'status'],\n",
            "      dtype='object')\n",
            "       Name RedShift B-Band Magnitude  ... Sample CutsFailed     status\n",
            "0    1993ah   0.0285      16.86(0.19)  ...  0.128          1  \\nodata\\\\\n",
            "1    1993ag   0.0500      17.79(0.05)  ...  0.128          1  \\nodata\\\\\n",
            "2     1993o   0.0529      17.60(0.05)  ...  0.128          1  \\nodata\\\\\n",
            "3     1993b   0.0701      18.43(0.04)  ...  0.128          1  \\nodata\\\\\n",
            "4    1992bs   0.0627      18.25(0.05)  ...  0.128          1  \\nodata\\\\\n",
            "..      ...      ...              ...  ...    ...        ...        ...\n",
            "744   D-000   1.0170      25.20(0.12)  ...  0.000         19  \\nodata\\\\\n",
            "745   D-006   1.3150      25.68(0.13)  ...  0.552         19  \\nodata\\\\\n",
            "746   P-009   0.8210      24.37(0.09)  ...  0.552         19  \\nodata\\\\\n",
            "747   R-012   1.2150      25.79(0.16)  ...  0.000         19  \\nodata\\\\\n",
            "748   Z-005   0.6230      23.48(0.15)  ...  0.552         19  \\nodata\\\\\n",
            "\n",
            "[714 rows x 9 columns]\n"
          ]
        }
      ]
    },
    {
      "cell_type": "code",
      "source": [
        "magB = data['B-Band Magnitude'].values.tolist()\n",
        "magB_exact = []\n",
        "for i in magB:\n",
        "    exact = re.sub(r\"\\([^()]*\\)\", \"\", i)\n",
        "    try:\n",
        "        magB_exact.append(float(exact))\n",
        "    except:\n",
        "        magB_exact.append(0)\n",
        "redShift = data['RedShift'].values.tolist()\n",
        "redShift_exact = []\n",
        "for i in redShift:\n",
        "    exact = re.sub(r\"\\([^()]*\\)\", \"\", i)\n",
        "    try:\n",
        "        redShift_exact.append(float(exact))\n",
        "    except:\n",
        "        redShift_exact.append(0)\n",
        "\n",
        "plt.scatter(redShift_exact, magB_exact, marker='+')\n",
        "plt.xscale('log')\n",
        "plt.xlabel(r'Red Shift $z$')\n",
        "plt.ylabel(r'B-Band Magnitude $m_B$')\n",
        "plt.title('Effective Magnitude vs. Red Shift of SCPUnion 2.1 AllSne')\n",
        "plt.show()"
      ],
      "metadata": {
        "colab": {
          "base_uri": "https://localhost:8080/",
          "height": 301
        },
        "id": "AmFCFLSLDzdW",
        "outputId": "3bacd834-797c-4e1e-d9d3-ecfbb3004796"
      },
      "execution_count": 6,
      "outputs": [
        {
          "output_type": "display_data",
          "data": {
            "image/png": "[encoded data removed]",
            "text/plain": [
              "<Figure size 432x288 with 1 Axes>"
            ]
          },
          "metadata": {
            "needs_background": "light"
          }
        }
      ]
    },
    {
      "cell_type": "markdown",
      "source": [
        "##### low red shift data:"
      ],
      "metadata": {
        "id": "YX7tSciSYtYP"
      }
    },
    {
      "cell_type": "code",
      "source": [
        "# obtain low red shift data\n",
        "redShift_float = np.float_(redShift_exact); magB_float = np.float_(magB_exact)        # convert all values to float\n",
        "redShift_low_position = np.where(redShift_float <= 0.1)       # get all low red shift positions\n",
        "redShift_low = redShift_float[redShift_low_position]          # get low red shift values on those positions\n",
        "magB_low = magB_float[redShift_low_position]\n",
        "\n",
        "redShift_high_position = np.where(redShift_float > 0.1)\n",
        "redShift_high = redShift_float[redShift_high_position]\n",
        "magB_high = magB_float[redShift_high_position]"
      ],
      "metadata": {
        "id": "ama2hzPDYx64"
      },
      "execution_count": 7,
      "outputs": []
    },
    {
      "cell_type": "code",
      "source": [
        "# now we do a linear fit \n",
        "from lmfit import minimize, Parameters, Parameter, report_fit\n",
        "\n",
        "def residual(ps, magEff, z):\n",
        "    M_c = ps['absMag'].value\n",
        "    c = 3*10**8           # speed of light \n",
        "    model = M_c + 5*np.log10(c*z)\n",
        "    return (model - magEff).ravel()\n",
        "\n",
        "params = Parameters()\n",
        "params.add('absMag', value = 0)        # set the chirp mass as the only variable\n",
        "\n",
        "result_fit = minimize(residual, params, args=(magB_low, redShift_low), method='leastsq')\n",
        "final_fit = magB_low + result_fit.residual.reshape(magB_low.shape)\n",
        "\n",
        "plt.scatter(redShift_low, magB_low, marker='+')       # original low red shift data\n",
        "plt.plot(redShift_low, final_fit, c='r')       # fitted magB value combined with original low red shift data\n",
        "plt.xscale('log')\n",
        "plt.xlabel(r'Red Shift $z$')\n",
        "plt.ylabel(r'B-Band Magnitude $m_B$')\n",
        "plt.title('Effective Magnitude vs. Low Red Shift of SCPUnion 2.1 AllSne')\n",
        "plt.show()\n",
        "\n",
        "report_fit(result_fit)"
      ],
      "metadata": {
        "colab": {
          "base_uri": "https://localhost:8080/",
          "height": 492
        },
        "id": "j_7cjQyMLM2v",
        "outputId": "73005d60-60a0-42e1-8ed8-31008673210d"
      },
      "execution_count": 8,
      "outputs": [
        {
          "output_type": "display_data",
          "data": {
            "image/png": "[encoded data removed]",
            "text/plain": [
              "<Figure size 432x288 with 1 Axes>"
            ]
          },
          "metadata": {
            "needs_background": "light"
          }
        },
        {
          "output_type": "stream",
          "name": "stdout",
          "text": [
            "[[Fit Statistics]]\n",
            "    # fitting method   = leastsq\n",
            "    # function evals   = 7\n",
            "    # data points      = 286\n",
            "    # variables        = 1\n",
            "    chi-square         = 159.004419\n",
            "    reduced chi-square = 0.55791024\n",
            "    Akaike info crit   = -165.899108\n",
            "    Bayesian info crit = -162.243116\n",
            "[[Variables]]\n",
            "    absMag: -18.0265112 +/- 0.04416713 (0.25%) (init = 0)\n"
          ]
        }
      ]
    }
  ]
}