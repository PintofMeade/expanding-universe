{
  "nbformat": 4,
  "nbformat_minor": 0,
  "metadata": {
    "colab": {
      "name": "Expanding_Universe.ipynb",
      "provenance": [],
      "collapsed_sections": [],
      "authorship_tag": "ABX9TyO3DXzUbXUk1IkdH9stasK9",
      "include_colab_link": true
    },
    "kernelspec": {
      "name": "python3",
      "display_name": "Python 3"
    },
    "language_info": {
      "name": "python"
    }
  },
  "cells": [
    {
      "cell_type": "markdown",
      "metadata": {
        "id": "view-in-github",
        "colab_type": "text"
      },
      "source": [
        "<a href=\"https://colab.research.google.com/github/xli2522/expanding-universe/blob/main/Expanding_Universe.ipynb\" target=\"_parent\"><img src=\"https://colab.research.google.com/assets/colab-badge.svg\" alt=\"Open In Colab\"/></a>"
      ]
    },
    {
      "cell_type": "code",
      "source": [
        "! pip install -q lmfit "
      ],
      "metadata": {
        "id": "SD7hj6VqAZr_"
      },
      "execution_count": 13,
      "outputs": []
    },
    {
      "cell_type": "code",
      "execution_count": 14,
      "metadata": {
        "id": "mmEWDRscAHva"
      },
      "outputs": [],
      "source": [
        "import numpy as np\n",
        "import matplotlib.pyplot as plt\n",
        "import lmfit \n",
        "import pandas as pd\n",
        "import re"
      ]
    },
    {
      "cell_type": "code",
      "source": [
        "# extract data from the 2011 \n",
        "data=pd.read_csv('SCPUnion2.1_AllSNe.txt', sep=' & ', dtype='object')"
      ],
      "metadata": {
        "colab": {
          "base_uri": "https://localhost:8080/"
        },
        "id": "8FVj7A3eAgMJ",
        "outputId": "095352c9-8534-47ef-e592-205ecd95b69f"
      },
      "execution_count": 15,
      "outputs": [
        {
          "output_type": "stream",
          "name": "stderr",
          "text": [
            "/usr/local/lib/python3.7/dist-packages/pandas/util/_decorators.py:311: ParserWarning: Falling back to the 'python' engine because the 'c' engine does not support regex separators (separators > 1 char and different from '\\s+' are interpreted as regex); you can avoid this warning by specifying engine='python'.\n",
            "  return func(*args, **kwargs)\n"
          ]
        }
      ]
    },
    {
      "cell_type": "code",
      "source": [
        "print(data.columns)\n",
        "data = data[data['status'] != r'f\\\\']       # remove failed data\n",
        "print(data)"
      ],
      "metadata": {
        "colab": {
          "base_uri": "https://localhost:8080/"
        },
        "id": "e1BWGqu1DuN9",
        "outputId": "e117d86e-6689-47bd-f484-be4ffd112e1d"
      },
      "execution_count": 16,
      "outputs": [
        {
          "output_type": "stream",
          "name": "stdout",
          "text": [
            "Index(['Name', 'RedShift', 'B-Band Magnitude', 'Stretch', 'Color',\n",
            "       'Distance Modulus', 'Sample', 'CutsFailed', 'status'],\n",
            "      dtype='object')\n",
            "       Name RedShift B-Band Magnitude  ... Sample CutsFailed     status\n",
            "0    1993ah   0.0285      16.86(0.19)  ...  0.128          1  \\nodata\\\\\n",
            "1    1993ag   0.0500      17.79(0.05)  ...  0.128          1  \\nodata\\\\\n",
            "2     1993o   0.0529      17.60(0.05)  ...  0.128          1  \\nodata\\\\\n",
            "3     1993b   0.0701      18.43(0.04)  ...  0.128          1  \\nodata\\\\\n",
            "4    1992bs   0.0627      18.25(0.05)  ...  0.128          1  \\nodata\\\\\n",
            "..      ...      ...              ...  ...    ...        ...        ...\n",
            "744   D-000   1.0170      25.20(0.12)  ...  0.000         19  \\nodata\\\\\n",
            "745   D-006   1.3150      25.68(0.13)  ...  0.552         19  \\nodata\\\\\n",
            "746   P-009   0.8210      24.37(0.09)  ...  0.552         19  \\nodata\\\\\n",
            "747   R-012   1.2150      25.79(0.16)  ...  0.000         19  \\nodata\\\\\n",
            "748   Z-005   0.6230      23.48(0.15)  ...  0.552         19  \\nodata\\\\\n",
            "\n",
            "[714 rows x 9 columns]\n"
          ]
        }
      ]
    },
    {
      "cell_type": "code",
      "source": [
        "magB = data['B-Band Magnitude'].values.tolist()\n",
        "magB_exact = []\n",
        "for i in magB:\n",
        "    exact = re.sub(r\"\\([^()]*\\)\", \"\", i)\n",
        "    try:\n",
        "        magB_exact.append(float(exact))\n",
        "    except:\n",
        "        magB_exact.append(0)\n",
        "redShift = data['RedShift'].values.tolist()\n",
        "redShift_exact = []\n",
        "for i in redShift:\n",
        "    exact = re.sub(r\"\\([^()]*\\)\", \"\", i)\n",
        "    try:\n",
        "        redShift_exact.append(float(exact))\n",
        "    except:\n",
        "        redShift_exact.append(0)\n",
        "\n",
        "plt.scatter(redShift_exact, magB_exact, marker='+')\n",
        "plt.xscale('log')\n",
        "plt.xlabel(r'Red Shift $z$')\n",
        "plt.ylabel(r'B-Band Magnitude $m_B$')\n",
        "plt.title('Effective Magnitude vs. Red Shift of SCPUnion 2.1 AllSne')\n",
        "plt.show()"
      ],
      "metadata": {
        "colab": {
          "base_uri": "https://localhost:8080/",
          "height": 301
        },
        "id": "AmFCFLSLDzdW",
        "outputId": "bfeac432-c05e-467b-a0f9-14e3f3d695bb"
      },
      "execution_count": 17,
      "outputs": [
        {
          "output_type": "display_data",
          "data": {
            "image/png": "[encoded data removed]",
            "text/plain": [
              "<Figure size 432x288 with 1 Axes>"
            ]
          },
          "metadata": {
            "needs_background": "light"
          }
        }
      ]
    },
    {
      "cell_type": "markdown",
      "source": [
        "##### low red shift data:"
      ],
      "metadata": {
        "id": "YX7tSciSYtYP"
      }
    },
    {
      "cell_type": "code",
      "source": [
        "# obtain low red shift data\n",
        "redShift_float = np.float_(redShift_exact); magB_float = np.float_(magB_exact)        # convert all values to float\n",
        "redShift_low_position = np.where(redShift_float <= 0.1)       # get all low red shift positions\n",
        "redShift_low = redShift_float[redShift_low_position]          # get low red shift values on those positions\n",
        "magB_low = magB_float[redShift_low_position]\n",
        "\n",
        "redShift_high_position = np.where(redShift_float > 0.1)\n",
        "redShift_high = redShift_float[redShift_high_position]\n",
        "magB_high = magB_float[redShift_high_position]"
      ],
      "metadata": {
        "id": "ama2hzPDYx64"
      },
      "execution_count": 18,
      "outputs": []
    },
    {
      "cell_type": "code",
      "source": [
        "# now we do a linear fit \n",
        "from lmfit import minimize, Parameters, Parameter, report_fit\n",
        "\n",
        "def residual(ps, magEff, z):\n",
        "    M_c = ps['absMag'].value\n",
        "    c = 3*10**8           # speed of light \n",
        "    model = M_c + 2.5*np.log(c*z)\n",
        "    return (model - magEff).ravel()\n",
        "\n",
        "params = Parameters()\n",
        "params.add('absMag', value = 0)        # set the chirp mass as the only variable\n",
        "\n",
        "result_fit = minimize(residual, params, args=(magB_low, redShift_low), method='leastsq')\n",
        "final_fit = magB_low + result_fit.residual.reshape(magB_low.shape)\n",
        "\n",
        "plt.scatter(redShift_low, magB_low, marker='+')       # original low red shift data\n",
        "plt.plot(redShift_low, final_fit, c='r')       # fitted magB value combined with original low red shift data\n",
        "plt.xscale('log')\n",
        "plt.xlabel(r'Red Shift $z$')\n",
        "plt.ylabel(r'B-Band Magnitude $m_B$')\n",
        "plt.title('Effective Magnitude vs. Low Red Shift of SCPUnion 2.1 AllSne')\n",
        "plt.show()\n",
        "\n",
        "report_fit(result_fit)"
      ],
      "metadata": {
        "colab": {
          "base_uri": "https://localhost:8080/",
          "height": 492
        },
        "id": "j_7cjQyMLM2v",
        "outputId": "0e38597a-814e-4096-ad89-eb7ba1c9c81c"
      },
      "execution_count": 29,
      "outputs": [
        {
          "output_type": "display_data",
          "data": {
            "image/png": "[encoded data removed]",
            "text/plain": [
              "<Figure size 432x288 with 1 Axes>"
            ]
          },
          "metadata": {
            "needs_background": "light"
          }
        },
        {
          "output_type": "stream",
          "name": "stdout",
          "text": [
            "[[Fit Statistics]]\n",
            "    # fitting method   = leastsq\n",
            "    # function evals   = 8\n",
            "    # data points      = 286\n",
            "    # variables        = 1\n",
            "    chi-square         = 206.645752\n",
            "    reduced chi-square = 0.72507281\n",
            "    Akaike info crit   = -90.9459465\n",
            "    Bayesian info crit = -87.2899547\n",
            "[[Variables]]\n",
            "    absMag: -23.2099378 +/- 0.05035096 (0.22%) (init = 0)\n"
          ]
        }
      ]
    }
  ]
}